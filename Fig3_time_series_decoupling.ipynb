{
 "cells": [
  {
   "cell_type": "code",
   "execution_count": 1,
   "metadata": {},
   "outputs": [],
   "source": [
    "import numpy as np\n",
    "import matplotlib.pyplot as plt\n",
    "import xarray as xr\n",
    "from matplotlib import cm"
   ]
  },
  {
   "cell_type": "code",
   "execution_count": 2,
   "metadata": {},
   "outputs": [],
   "source": [
    "#read data\n",
    "path=\"/lustre/ytzheng/\"\n",
    "\n",
    "Casename = 'ASTEX_cold2.6'\n",
    "Casename1 = 'ASTEX_cold2.6_fxdlhf'\n",
    "\n",
    "f = xr.open_mfdataset(path + Casename + '/' + '*N100.nc',\n",
    "                      combine = 'by_coords',decode_cf = False)\n",
    "f1 = xr.open_mfdataset(path + Casename1 + '/' + '*N100*.nc',\n",
    "                      combine = 'by_coords',decode_cf = False)"
   ]
  },
  {
   "cell_type": "code",
   "execution_count": 3,
   "metadata": {},
   "outputs": [],
   "source": [
    "nt = 90\n",
    "t_hours = np.arange(nt)\n",
    "\n",
    "f = f.where(f.CLDLOW > 0.5)\n",
    "f1 = f1.where(f1.CLDLOW > 0.5)\n",
    "\n",
    "myfontsize = 12"
   ]
  },
  {
   "cell_type": "code",
   "execution_count": null,
   "metadata": {},
   "outputs": [],
   "source": [
    "fig, axs = plt.subplots(ncols = 1,\n",
    "                        nrows = 3,\n",
    "                        sharex = True, sharey = False,\n",
    "                        figsize=(7/2.54, (9)/2.54), dpi = 300)\n",
    "\n",
    "#fig1\n",
    "axs[0].plot(t_hours, f.delta_thetal_out, color = 'black',label='CTRL')\n",
    "axs[0].plot(t_hours, f1.delta_thetal_out, color = 'black', linestyle = '--',label='FXDLHF')\n",
    "axs[0].set_ylabel(r\"$\\mathrm{\\Delta_{BL} \\vartheta_l \\ (K)}$\")\n",
    "axs[0].legend(loc=\"best\", fontsize=0.7*myfontsize)\n",
    "axs[0].set_xlim([0., 60])\n",
    "axs[0].grid(True)\n",
    "\n",
    "#fig2\n",
    "axs[1].plot(t_hours, f.delta_qt_out, color = 'black',label='CTRL')\n",
    "axs[1].plot(t_hours, f1.delta_qt_out, color = 'black', linestyle = '--',label='FXDLHF')\n",
    "axs[1].set_ylabel(r\"$\\mathrm{\\Delta_{BL} q_t \\ (gkg^{-1})}$\")\n",
    "axs[1].grid(True)\n",
    "\n",
    "#fig3\n",
    "axs[2].plot(t_hours, f.CLDLOW, color = 'black',label='CTRL')\n",
    "axs[2].plot(t_hours, f1.CLDLOW, color = 'black', linestyle = '--',label='FXDLHF')\n",
    "axs[2].set_ylabel(r\"$\\mathrm{Cloud \\ frac.}$\")\n",
    "axs[2].set_xlabel(r\"$\\mathrm{Time \\ (h)}$\")\n",
    "axs[2].grid(True)\n",
    "\n",
    "mylabel = np.array(('a','b','c'))\n",
    "for i in range(3):\n",
    "    axs[i].text(0.0, 1.05, mylabel[i], transform=axs[i].transAxes,\n",
    "                fontsize=0.8*myfontsize, fontweight='bold')\n",
    "\n",
    "fig.savefig('Fig3_time_series_decoupling.png', dpi=fig.dpi, bbox_inches='tight')"
   ]
  }
 ],
 "metadata": {
  "kernelspec": {
   "display_name": "Python 3",
   "language": "python",
   "name": "python3"
  },
  "language_info": {
   "codemirror_mode": {
    "name": "ipython",
    "version": 3
   },
   "file_extension": ".py",
   "mimetype": "text/x-python",
   "name": "python",
   "nbconvert_exporter": "python",
   "pygments_lexer": "ipython3",
   "version": "3.7.7"
  }
 },
 "nbformat": 4,
 "nbformat_minor": 2
}
